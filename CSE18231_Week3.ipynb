{
  "nbformat": 4,
  "nbformat_minor": 0,
  "metadata": {
    "colab": {
      "name": "CSE18231-Week3.ipynb",
      "provenance": [],
      "include_colab_link": true
    },
    "kernelspec": {
      "name": "python3",
      "display_name": "Python 3"
    }
  },
  "cells": [
    {
      "cell_type": "markdown",
      "metadata": {
        "id": "view-in-github",
        "colab_type": "text"
      },
      "source": [
        "<a href=\"https://colab.research.google.com/github/karthicsalem/data_science/blob/master/CSE18231_Week3.ipynb\" target=\"_parent\"><img src=\"https://colab.research.google.com/assets/colab-badge.svg\" alt=\"Open In Colab\"/></a>"
      ]
    },
    {
      "cell_type": "markdown",
      "metadata": {
        "id": "R3UrcXmQUSdR"
      },
      "source": [
        "**1)Create a Time class and initialize it with hours and minutes.\r\n",
        "a. Make a method addTime which should take two time object and add them.\r\n",
        "E.g.- (2 hour and 50 min)+(1 hr and 20 min) is (4 hr and 10 min)\r\n",
        "b. Make a method displayTime which should print the time.\r\n",
        "c. Make a method DisplayMinute which should display the total minutes in the\r\n",
        "Time.**"
      ]
    },
    {
      "cell_type": "code",
      "metadata": {
        "id": "60qvB9TrDeGJ",
        "colab": {
          "base_uri": "https://localhost:8080/"
        },
        "outputId": "f1db65aa-5a23-4a48-f963-83a3f727a809"
      },
      "source": [
        "class  Time:\r\n",
        "    def __init__(self,hrs,mins):\r\n",
        "        self.hrs=hrs\r\n",
        "        self.mins=mins\r\n",
        "    def addTime(t1,t2):\r\n",
        "        t3=Time(0,0) \r\n",
        "        t3.hrs=t1.hrs+t2.hrs\r\n",
        "        t3.mins=t1.mins+t2.mins        \r\n",
        "        if t3.mins>=60:\r\n",
        "            t3.hrs+=1\r\n",
        "            t3.mins-=60\r\n",
        "        return t3\r\n",
        "    def displayTime(self):\r\n",
        "        print(\"Time is %d : %d\" %(self.hrs,self.mins))\r\n",
        "    def displayMinutes(self):\r\n",
        "        print((self.hrs*60)+self.mins,\"minutes\")\r\n",
        "h1=int(input(\"Enter hour of time1: \"))\r\n",
        "m1=int(input(\"Enter min of time1: \"))\r\n",
        "h2=int(input(\"Enter hour of time2: \"))\r\n",
        "m2=int(input(\"Enter min of time2: \"))\r\n",
        "x=Time(h1,m1)\r\n",
        "y=Time(h2,m2)\r\n",
        "z=Time.addTime(x,y)\r\n",
        "z.displayTime()\r\n",
        "z.displayMinutes()"
      ],
      "execution_count": 3,
      "outputs": [
        {
          "output_type": "stream",
          "text": [
            "Enter hour of time1: 3\n",
            "Enter min of time1: 43\n",
            "Enter hour of time2: 5\n",
            "Enter min of time2: 51\n",
            "Time is 9 : 34\n",
            "574 minutes\n"
          ],
          "name": "stdout"
        }
      ]
    },
    {
      "cell_type": "markdown",
      "metadata": {
        "id": "MnEz2dsE-xVV"
      },
      "source": [
        "**2. Write a Python class to find a pair of elements (indices of the two numbers) from a\r\n",
        "given array whose sum equals a specific target number.**"
      ]
    },
    {
      "cell_type": "code",
      "metadata": {
        "colab": {
          "base_uri": "https://localhost:8080/"
        },
        "id": "Ftuy048N-xG6",
        "outputId": "57b15d35-5b8a-44b6-b8f1-ae57b6d5e83b"
      },
      "source": [
        "def sumof2(li,t):\r\n",
        "  for i in range(len(li)-1):\r\n",
        "    for j in range(i+1,len(li)):\r\n",
        "      if (li[i]+li[j])==t:\r\n",
        "        return str(i+1)+\",\"+str(j+1)\r\n",
        "  return \"No match\"\r\n",
        "print(sumof2([1,13,21,4],5))"
      ],
      "execution_count": null,
      "outputs": [
        {
          "output_type": "stream",
          "text": [
            "1,4\n"
          ],
          "name": "stdout"
        }
      ]
    },
    {
      "cell_type": "markdown",
      "metadata": {
        "id": "K9aGhPtfWN6n"
      },
      "source": [
        "**3. Write a Python class which has three methods get_String, print_String and\r\n",
        "reverse_string. get_String accept a string from the user and print_String print the\r\n",
        "string in upper case. reverse_string reverses each word in the input string.**"
      ]
    },
    {
      "cell_type": "code",
      "metadata": {
        "colab": {
          "base_uri": "https://localhost:8080/"
        },
        "id": "4RgZiEGpWWDX",
        "outputId": "aa5ad67f-d11e-4946-94d5-722feb877989"
      },
      "source": [
        "class Stringop:\r\n",
        "    def get_String(self):\r\n",
        "        s=input(\"Enter string: \")\r\n",
        "        self.print_String(s)\r\n",
        "\r\n",
        "    def print_String(self,s):\r\n",
        "        print(\"The string is \"+s)\r\n",
        "        self.reverse_String(s)\r\n",
        "\r\n",
        "    def reverse_String(self,s):\r\n",
        "        print(\"The reverse is \"+s[::-1])\r\n",
        "g=Stringop()\r\n",
        "g.get_String()"
      ],
      "execution_count": 4,
      "outputs": [
        {
          "output_type": "stream",
          "text": [
            "Enter string: Hello World\n",
            "The string is Hello World\n",
            "The reverse is dlroW olleH\n"
          ],
          "name": "stdout"
        }
      ]
    },
    {
      "cell_type": "markdown",
      "metadata": {
        "id": "9vc0zFJUWtGn"
      },
      "source": [
        "**4. Given a random sequence of numbers, write two functions. One should sort the given\r\n",
        "sequence and second function should implement binary search.**"
      ]
    },
    {
      "cell_type": "code",
      "metadata": {
        "colab": {
          "base_uri": "https://localhost:8080/"
        },
        "id": "xHboYEzcWvT-",
        "outputId": "557c3ef9-9543-40f9-cb85-d5b843d1f785"
      },
      "source": [
        "def binary_search(l,h,a,k):\r\n",
        "    while l<=h:\r\n",
        "        m=(l+h)//2\r\n",
        "        if k>a[m]:\r\n",
        "            l=m+1\r\n",
        "            binary_search(l,h,a,k)\r\n",
        "        elif k<a[m]:\r\n",
        "            h=m-1\r\n",
        "            binary_search(l,h,a,k)\r\n",
        "        else:\r\n",
        "            return m\r\n",
        "    return -1\r\n",
        "a=list(map(int,input(\"Enter the list of numbers\\n\").split()))\r\n",
        "a.sort()\r\n",
        "print(\"The sorted array is \")\r\n",
        "print(a)\r\n",
        "n=int(input(\"Enter the number to search: \"))\r\n",
        "b=binary_search(0,len(a)-1,a,n)\r\n",
        "if b!=-1:\r\n",
        "    print(\"It is at \"+str(b))\r\n",
        "else:\r\n",
        "    print(\"It is not found\")"
      ],
      "execution_count": 9,
      "outputs": [
        {
          "output_type": "stream",
          "text": [
            "Enter the list of numbers\n",
            "10 2 3 55 6\n",
            "The sorted array is \n",
            "[2, 3, 6, 10, 55]\n",
            "Enter the number to search: 4\n",
            "It is not found\n"
          ],
          "name": "stdout"
        }
      ]
    },
    {
      "cell_type": "markdown",
      "metadata": {
        "id": "GRDOezF9B__Y"
      },
      "source": [
        "**5. Write a Python program to replace the last element in a list with another list**"
      ]
    },
    {
      "cell_type": "code",
      "metadata": {
        "colab": {
          "base_uri": "https://localhost:8080/"
        },
        "id": "poG0HbDsCCtU",
        "outputId": "6f81792b-e9cc-412b-9f2a-fcff0520ae6b"
      },
      "source": [
        "def lis(l1,l2):\r\n",
        "  l1=l1[:-1]\r\n",
        "  l1=l1+l2\r\n",
        "  print(\"Modified List:\",l1)\r\n",
        "  return\r\n",
        "lis([1, 3, 5, 7, 9, 10], [2, 4, 6, 8])"
      ],
      "execution_count": null,
      "outputs": [
        {
          "output_type": "stream",
          "text": [
            "Modified List: [1, 3, 5, 7, 9, 2, 4, 6, 8]\n"
          ],
          "name": "stdout"
        }
      ]
    },
    {
      "cell_type": "markdown",
      "metadata": {
        "id": "obo0KfIa8zrd"
      },
      "source": [
        "**6. Write a Python program to insert a given string at the beginning of all items in a list.**"
      ]
    },
    {
      "cell_type": "code",
      "metadata": {
        "colab": {
          "base_uri": "https://localhost:8080/"
        },
        "id": "pR9Oud-G8zZm",
        "outputId": "d4bf67d9-5c48-4de3-9fa4-2e7eb04b385e"
      },
      "source": [
        "def str_append(li,s):\r\n",
        "  li=[s+str(i) for i in li]\r\n",
        "  return li \r\n",
        "print(str_append([1,2,3,4],\"emp\"))"
      ],
      "execution_count": null,
      "outputs": [
        {
          "output_type": "stream",
          "text": [
            "['emp1', 'emp2', 'emp3', 'emp4']\n"
          ],
          "name": "stdout"
        }
      ]
    },
    {
      "cell_type": "markdown",
      "metadata": {
        "id": "pHUi-3Ql7T5R"
      },
      "source": [
        "**7. Write a Python program to find the list in a list of lists whose sum of elements is the\r\n",
        "highest.**"
      ]
    },
    {
      "cell_type": "code",
      "metadata": {
        "colab": {
          "base_uri": "https://localhost:8080/"
        },
        "id": "IxZiBISn7TWM",
        "outputId": "6338bb88-471c-484e-8cf0-5f4e4cf843a5"
      },
      "source": [
        "def max_sum(li):\r\n",
        "  k=[0]\r\n",
        "  for i in li:\r\n",
        "    if sum(k)<sum(i):\r\n",
        "      k=i\r\n",
        "  return k\r\n",
        "print(max_sum([[1,2,3], [4,5,6], [10,11,12], [7,8,9]]))"
      ],
      "execution_count": null,
      "outputs": [
        {
          "output_type": "stream",
          "text": [
            "[10, 11, 12]\n"
          ],
          "name": "stdout"
        }
      ]
    },
    {
      "cell_type": "markdown",
      "metadata": {
        "id": "AgD7aM7F5FGY"
      },
      "source": [
        "**8. Write a Python program to check if all dictionaries in a list are empty or not.**\r\n",
        "\r\n"
      ]
    },
    {
      "cell_type": "code",
      "metadata": {
        "colab": {
          "base_uri": "https://localhost:8080/"
        },
        "id": "60FIB5BZ43-Q",
        "outputId": "f55bebb9-3439-423e-8667-5ca5129dfc9f"
      },
      "source": [
        "def dict_full(a):\r\n",
        "  for i in a:\r\n",
        "    if len(i)!=0:\r\n",
        "      return False\r\n",
        "  return True\r\n",
        "print(dict_full([{},{},{}]))\r\n",
        "print(dict_full([{1,2},{},{}]))"
      ],
      "execution_count": null,
      "outputs": [
        {
          "output_type": "stream",
          "text": [
            "True\n",
            "False\n"
          ],
          "name": "stdout"
        }
      ]
    },
    {
      "cell_type": "markdown",
      "metadata": {
        "id": "p1-PKwuOYU_M"
      },
      "source": [
        "**9.Write a Python program to get the depth of a dictionary.**"
      ]
    },
    {
      "cell_type": "code",
      "metadata": {
        "colab": {
          "base_uri": "https://localhost:8080/"
        },
        "id": "K7WKlsauYgFz",
        "outputId": "4a770734-646d-41a2-ac4a-750f97b5aacf"
      },
      "source": [
        "def dict_depth(dic,k=0): \r\n",
        "      \r\n",
        "    if not isinstance(dic,dict) or not dic: \r\n",
        "        return k\r\n",
        "    return max(dict_depth(dic[key],k+1)for key in dic)                                \r\n",
        "mydict={1:{'a':{'d':2}}} \r\n",
        "print(dict_depth(mydict)) "
      ],
      "execution_count": 13,
      "outputs": [
        {
          "output_type": "stream",
          "text": [
            "3\n"
          ],
          "name": "stdout"
        }
      ]
    },
    {
      "cell_type": "markdown",
      "metadata": {
        "id": "JE7hvmXNZAhX"
      },
      "source": [
        "**10. Write a Python program to access dictionary key’s element by index.**"
      ]
    },
    {
      "cell_type": "code",
      "metadata": {
        "colab": {
          "base_uri": "https://localhost:8080/"
        },
        "id": "4TLDVhjUZERE",
        "outputId": "38a00014-25bf-46b9-9786-0778c14a47b6"
      },
      "source": [
        "d={'Physics':90,'Maths':100,'Chemistry':96,'Biology':90}\r\n",
        "n=int(input(\"Enter index: \"))\r\n",
        "l=list(d.keys())\r\n",
        "if n>=0 and n<len(d):\r\n",
        "    for i in range(len(l)):\r\n",
        "        if i==n:\r\n",
        "            print(l[i])\r\n",
        "else:\r\n",
        "    print(\"Invalid index\")"
      ],
      "execution_count": 15,
      "outputs": [
        {
          "output_type": "stream",
          "text": [
            "Enter index: 3\n",
            "Biology\n"
          ],
          "name": "stdout"
        }
      ]
    },
    {
      "cell_type": "markdown",
      "metadata": {
        "id": "rq6Esd_A6ieV"
      },
      "source": [
        "**11. Write a Python script to generate and print a dictionary that contains a number (between 1 and n) in the form (x, x*x).**"
      ]
    },
    {
      "cell_type": "code",
      "metadata": {
        "colab": {
          "base_uri": "https://localhost:8080/"
        },
        "id": "2zdVCU5E6GoX",
        "outputId": "ea86e368-be45-48e8-c9cb-0babf718a1b5"
      },
      "source": [
        "def dict_sq(n):\r\n",
        "  sq={}\r\n",
        "  for i in range(1,n+1):\r\n",
        "    sq[i]=i*i\r\n",
        "  return sq\r\n",
        "print(dict_sq(7))"
      ],
      "execution_count": null,
      "outputs": [
        {
          "output_type": "execute_result",
          "data": {
            "text/plain": [
              "{1: 1, 2: 4, 3: 9, 4: 16, 5: 25, 6: 36, 7: 49}"
            ]
          },
          "metadata": {
            "tags": []
          },
          "execution_count": 6
        }
      ]
    },
    {
      "cell_type": "markdown",
      "metadata": {
        "id": "WrwNp1nZZbqG"
      },
      "source": [
        "**12. Write a Python program to concatenate following dictionaries to create a new one.**"
      ]
    },
    {
      "cell_type": "code",
      "metadata": {
        "colab": {
          "base_uri": "https://localhost:8080/"
        },
        "id": "W6oghCI_ZgWD",
        "outputId": "d757fda1-cc2e-41b8-c409-3bbcbee0ad5f"
      },
      "source": [
        "dict = {}\r\n",
        "n = int(input())\r\n",
        "for i in range(n):\r\n",
        "    s = input().split()\r\n",
        "    tempdict = {}\r\n",
        "    for x in s:\r\n",
        "        l = x.split(\":\")\r\n",
        "        tempdict[l[0]] = l[1]\r\n",
        "    dict[i] = tempdict\r\n",
        "dict1 = dict[0]\r\n",
        "for i in range(1, n):\r\n",
        "    d = dict[i]\r\n",
        "    for x, y in d.items():\r\n",
        "        dict1[x] = y\r\n",
        "print(dict1)"
      ],
      "execution_count": 17,
      "outputs": [
        {
          "output_type": "stream",
          "text": [
            "2\n",
            "1:10\n",
            "2:10\n",
            "{'1': '10', '2': '10'}\n"
          ],
          "name": "stdout"
        }
      ]
    },
    {
      "cell_type": "markdown",
      "metadata": {
        "id": "9wXU9mOBbOAD"
      },
      "source": [
        "**13. Write a Python script to merge two Python dictionaries.**"
      ]
    },
    {
      "cell_type": "code",
      "metadata": {
        "colab": {
          "base_uri": "https://localhost:8080/"
        },
        "id": "ap4L8DhObNsb",
        "outputId": "c87756fa-a517-48bd-85e2-7fc3c97c4d98"
      },
      "source": [
        "d1={'karthi1':20,'karthi':30}\r\n",
        "d2={'karthi3':40,'karthi33':10}\r\n",
        "d1.update(d2)\r\n",
        "print(d1)"
      ],
      "execution_count": 18,
      "outputs": [
        {
          "output_type": "stream",
          "text": [
            "{'karthi1': 20, 'karthi': 30, 'karthi3': 40, 'karthi33': 10}\n"
          ],
          "name": "stdout"
        }
      ]
    },
    {
      "cell_type": "markdown",
      "metadata": {
        "id": "VcAaVy15blnT"
      },
      "source": [
        "**14. Write a Python program to combine two dictionary adding values for common keys.**"
      ]
    },
    {
      "cell_type": "code",
      "metadata": {
        "colab": {
          "base_uri": "https://localhost:8080/"
        },
        "id": "R-LFLsqlblaV",
        "outputId": "7367a5fd-28b4-49cb-f126-85950b00aa0e"
      },
      "source": [
        "d1 = d2={} \r\n",
        "s = input().split()\r\n",
        "tempdict = {}\r\n",
        "for x in s:\r\n",
        "    l = x.split(\":\")\r\n",
        "    tempdict[l[0]] = l[1]\r\n",
        "d1 = tempdict\r\n",
        "s = input().split()\r\n",
        "tempdict = {}\r\n",
        "for x in s:\r\n",
        "    l = x.split(\":\")\r\n",
        "    tempdict[l[0]] = l[1]\r\n",
        "d2 = tempdict\r\n",
        "dict = d1\r\n",
        "for x in d2:\r\n",
        "    if x in d1:\r\n",
        "        dict[x] = dict[x] + d2[x]\r\n",
        "        continue\r\n",
        "    dict[x] = d2[x]\r\n",
        "print(dict)"
      ],
      "execution_count": 25,
      "outputs": [
        {
          "output_type": "stream",
          "text": [
            "a:100 b:200 c:300\n",
            "a:300 b:200 d:400\n",
            "{'a': '100300', 'b': '200200', 'c': '300', 'd': '400'}\n"
          ],
          "name": "stdout"
        }
      ]
    },
    {
      "cell_type": "markdown",
      "metadata": {
        "id": "_Hv_Rb6V-Wig"
      },
      "source": [
        "**15. Write a Python program to create and display all combinations of letters, selecting\r\n",
        "each letter from a different key in a dictionary.**"
      ]
    },
    {
      "cell_type": "markdown",
      "metadata": {
        "id": "C2H8bO43dCst"
      },
      "source": [
        "**16. Write a Python program to combine values in python list of dictionaries**"
      ]
    },
    {
      "cell_type": "code",
      "metadata": {
        "colab": {
          "base_uri": "https://localhost:8080/"
        },
        "id": "E4ehYuysdGjp",
        "outputId": "2fbd988a-2e1f-4cdf-beb0-6f788b8409dc"
      },
      "source": [
        "inp = input()\r\n",
        "inp = inp[1:-1]\r\n",
        "inp = inp.split(\"},{\")\r\n",
        "l = []\r\n",
        "for x in inp:\r\n",
        "    #d = dict(y.split(':') for y in x.split(','))\r\n",
        "    l.append(d)\r\n",
        "n = len(l)\r\n",
        "dict = {}\r\n",
        "for i in range(n - 1):\r\n",
        "    dict1 = l[i]\r\n",
        "    if dict1[\"item\"] in dict:\r\n",
        "        continue\r\n",
        "    else:\r\n",
        "        dict[dict1[\"item\"]] = int(dict1[\"amount\"])\r\n",
        "        for j in range(i + 1, n):\r\n",
        "            dict2 = l[j]\r\n",
        "            if dict1[\"item\"] == dict2[\"item\"]:\r\n",
        "                dict[dict1[\"item\"]] += int(dict2[\"amount\"])\r\n",
        "print(dict)"
      ],
      "execution_count": 31,
      "outputs": [
        {
          "output_type": "stream",
          "text": [
            "[{'item': 'item1', 'amount': 400}, {'item': 'item2', 'amount': 300}, {'item': 'item1', 'amount': 750}]\n",
            "{'item1': 1150, 'item2': 300}\n"
          ],
          "name": "stdout"
        }
      ]
    },
    {
      "cell_type": "markdown",
      "metadata": {
        "id": "A8LtI-JfeC0A"
      },
      "source": [
        "**17. Write a Python program to print a dictionary in table format.**"
      ]
    },
    {
      "cell_type": "code",
      "metadata": {
        "colab": {
          "base_uri": "https://localhost:8080/",
          "height": 52
        },
        "id": "-0EUk1t2eCqS",
        "outputId": "d42da3b9-a338-46ed-e8f8-06b1b0d59784"
      },
      "source": [
        "\"\"\"inp = input()\r\n",
        "inp=inp[1:-1]\r\n",
        "dic = dict(x.split(':') for x in inp.split(','))\r\n",
        "l = []\r\n",
        "l.append([])\r\n",
        "for x in dic:\r\n",
        "    l[0].append(x)\r\n",
        "    dic[x] = list(dic[x][1:-1].split())\r\n",
        "    n = len(dic[x])\r\n",
        "for i in range(n):\r\n",
        "    l.append([])\r\n",
        "for x in dic:\r\n",
        "    for i in range(n):\r\n",
        "        l[i+1].append(dic[x][i])\r\n",
        "for i in l:\r\n",
        "    print(i)\"\"\""
      ],
      "execution_count": 33,
      "outputs": [
        {
          "output_type": "execute_result",
          "data": {
            "application/vnd.google.colaboratory.intrinsic+json": {
              "type": "string"
            },
            "text/plain": [
              "\"inp = input()\\ninp=inp[1:-1]\\ndic = dict(x.split(':') for x in inp.split(','))\\nl = []\\nl.append([])\\nfor x in dic:\\n    l[0].append(x)\\n    dic[x] = list(dic[x][1:-1].split())\\n    n = len(dic[x])\\nfor i in range(n):\\n    l.append([])\\nfor x in dic:\\n    for i in range(n):\\n        l[i+1].append(dic[x][i])\\nfor i in l:\\n    print(i)\""
            ]
          },
          "metadata": {
            "tags": []
          },
          "execution_count": 33
        }
      ]
    },
    {
      "cell_type": "markdown",
      "metadata": {
        "id": "ULCz7ysfed6Y"
      },
      "source": [
        "**18.Write a Python program to replace last value of tuples in a list.**"
      ]
    },
    {
      "cell_type": "code",
      "metadata": {
        "colab": {
          "base_uri": "https://localhost:8080/"
        },
        "id": "gC2xVsP9edSc",
        "outputId": "d664c83f-5abe-4bf2-ec1a-14ebd0abb696"
      },
      "source": [
        "inp = input()\r\n",
        "inp = inp[2:-2]\r\n",
        "lt = inp.split('),(')\r\n",
        "n = len(lt)\r\n",
        "newlt = []\r\n",
        "for x in lt:\r\n",
        "    x = list(map(int, x.split(',')))\r\n",
        "    x[-1] = 100\r\n",
        "    x = tuple(x)\r\n",
        "    newlt.append(x)\r\n",
        "print(newlt)"
      ],
      "execution_count": 38,
      "outputs": [
        {
          "output_type": "stream",
          "text": [
            " [(10, 20, 40), (40, 50, 60), (70, 80, 90)]\n",
            " [(10, 20, 100), (40, 50, 100), (70, 80, 100)]\n"
          ],
          "name": "stdout"
        }
      ]
    },
    {
      "cell_type": "markdown",
      "metadata": {
        "id": "9RCuOn1sDM8q"
      },
      "source": [
        "**19.Write a Python program to remove an empty tuple(s) from a list of tuples.**"
      ]
    },
    {
      "cell_type": "code",
      "metadata": {
        "colab": {
          "base_uri": "https://localhost:8080/"
        },
        "id": "AwrYdfiFDMdk",
        "outputId": "203c1c68-ebb5-455c-dcac-3a5388e26b44"
      },
      "source": [
        "def tup(lis):\r\n",
        "  c=0\r\n",
        "  for i in range(len(lis)):\r\n",
        "    if len(lis[i])==0:\r\n",
        "      lis[0],lis[i]=lis[i],lis[0]\r\n",
        "      c=c+1\r\n",
        "  return lis[c:]\r\n",
        "tup( [(), (), ('',), ('a', 'b'), ('a', 'b', 'c'), ('d')])"
      ],
      "execution_count": null,
      "outputs": [
        {
          "output_type": "execute_result",
          "data": {
            "text/plain": [
              "[('',), ('a', 'b'), ('a', 'b', 'c'), 'd']"
            ]
          },
          "metadata": {
            "tags": []
          },
          "execution_count": 5
        }
      ]
    },
    {
      "cell_type": "markdown",
      "metadata": {
        "id": "lINjL8RHEW0t"
      },
      "source": [
        "**20.Write a Python program to sort a tuple by its float element**"
      ]
    },
    {
      "cell_type": "code",
      "metadata": {
        "colab": {
          "base_uri": "https://localhost:8080/"
        },
        "id": "eAghF9VrEJex",
        "outputId": "77e80a40-328c-4383-8eb2-52522ffc1fe1"
      },
      "source": [
        "def tupsort(lis):\r\n",
        "  for j in range(len(lis)):\r\n",
        "    for i in range(1,len(lis)):\r\n",
        "      if (lis[i][1]>lis[i-1][1]):\r\n",
        "        lis[i],lis[i-1]=lis[i-1],lis[i]\r\n",
        "  return lis\r\n",
        "tupsort( [('item1', '12.20'), ('item2', '15.10'), ('item3', '24.5')])"
      ],
      "execution_count": null,
      "outputs": [
        {
          "output_type": "execute_result",
          "data": {
            "text/plain": [
              "[('item3', '24.5'), ('item2', '15.10'), ('item1', '12.20')]"
            ]
          },
          "metadata": {
            "tags": []
          },
          "execution_count": 8
        }
      ]
    }
  ]
}